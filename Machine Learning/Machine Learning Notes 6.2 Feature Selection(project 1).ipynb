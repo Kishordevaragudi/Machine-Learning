{
 "cells": [
  {
   "cell_type": "markdown",
   "id": "5f3f0a67",
   "metadata": {},
   "source": [
    "# Feature Selection Advanced House Price Prediction"
   ]
  },
  {
   "cell_type": "markdown",
   "id": "f267f0df",
   "metadata": {},
   "source": [
    "The main aim of this project is to predict the house price based on various features which we will discuss as we go ahead"
   ]
  },
  {
   "cell_type": "code",
   "execution_count": null,
   "id": "aea8f586",
   "metadata": {},
   "outputs": [],
   "source": [
    "import pandas as pd\n",
    "import numpy as np\n",
    "import"
   ]
  }
 ],
 "metadata": {
  "kernelspec": {
   "display_name": "Python 3 (ipykernel)",
   "language": "python",
   "name": "python3"
  },
  "language_info": {
   "codemirror_mode": {
    "name": "ipython",
    "version": 3
   },
   "file_extension": ".py",
   "mimetype": "text/x-python",
   "name": "python",
   "nbconvert_exporter": "python",
   "pygments_lexer": "ipython3",
   "version": "3.9.12"
  }
 },
 "nbformat": 4,
 "nbformat_minor": 5
}
